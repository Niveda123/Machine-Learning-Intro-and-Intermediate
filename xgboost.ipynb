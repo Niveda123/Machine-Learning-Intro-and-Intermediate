{
 "cells": [
  {
   "cell_type": "markdown",
   "id": "a134be41",
   "metadata": {
    "papermill": {
     "duration": 0.00644,
     "end_time": "2022-10-15T18:21:28.648656",
     "exception": false,
     "start_time": "2022-10-15T18:21:28.642216",
     "status": "completed"
    },
    "tags": []
   },
   "source": [
    "**This notebook is an exercise in the [Intermediate Machine Learning](https://www.kaggle.com/learn/intermediate-machine-learning) course.  You can reference the tutorial at [this link](https://www.kaggle.com/alexisbcook/xgboost).**\n",
    "\n",
    "---\n"
   ]
  },
  {
   "cell_type": "markdown",
   "id": "bf54edf8",
   "metadata": {
    "papermill": {
     "duration": 0.004657,
     "end_time": "2022-10-15T18:21:28.658323",
     "exception": false,
     "start_time": "2022-10-15T18:21:28.653666",
     "status": "completed"
    },
    "tags": []
   },
   "source": [
    "In this exercise, you will use your new knowledge to train a model with **gradient boosting**.\n",
    "\n",
    "# Setup\n",
    "\n",
    "The questions below will give you feedback on your work. Run the following cell to set up the feedback system."
   ]
  },
  {
   "cell_type": "code",
   "execution_count": 1,
   "id": "249f2279",
   "metadata": {
    "execution": {
     "iopub.execute_input": "2022-10-15T18:21:28.670325Z",
     "iopub.status.busy": "2022-10-15T18:21:28.669637Z",
     "iopub.status.idle": "2022-10-15T18:21:31.048027Z",
     "shell.execute_reply": "2022-10-15T18:21:31.046905Z"
    },
    "papermill": {
     "duration": 2.392289,
     "end_time": "2022-10-15T18:21:31.055402",
     "exception": false,
     "start_time": "2022-10-15T18:21:28.663113",
     "status": "completed"
    },
    "tags": []
   },
   "outputs": [
    {
     "name": "stdout",
     "output_type": "stream",
     "text": [
      "Setup Complete\n"
     ]
    }
   ],
   "source": [
    "# Set up code checking\n",
    "import os\n",
    "if not os.path.exists(\"../input/train.csv\"):\n",
    "    os.symlink(\"../input/home-data-for-ml-course/train.csv\", \"../input/train.csv\")  \n",
    "    os.symlink(\"../input/home-data-for-ml-course/test.csv\", \"../input/test.csv\") \n",
    "from learntools.core import binder\n",
    "binder.bind(globals())\n",
    "from learntools.ml_intermediate.ex6 import *\n",
    "print(\"Setup Complete\")"
   ]
  },
  {
   "cell_type": "markdown",
   "id": "4282b97c",
   "metadata": {
    "papermill": {
     "duration": 0.005253,
     "end_time": "2022-10-15T18:21:31.066199",
     "exception": false,
     "start_time": "2022-10-15T18:21:31.060946",
     "status": "completed"
    },
    "tags": []
   },
   "source": [
    "You will work with the [Housing Prices Competition for Kaggle Learn Users](https://www.kaggle.com/c/home-data-for-ml-course) dataset from the previous exercise. \n",
    "\n",
    "![Ames Housing dataset image](https://i.imgur.com/lTJVG4e.png)\n",
    "\n",
    "Run the next code cell without changes to load the training and validation sets in `X_train`, `X_valid`, `y_train`, and `y_valid`.  The test set is loaded in `X_test`."
   ]
  },
  {
   "cell_type": "code",
   "execution_count": 2,
   "id": "080478c9",
   "metadata": {
    "execution": {
     "iopub.execute_input": "2022-10-15T18:21:31.078005Z",
     "iopub.status.busy": "2022-10-15T18:21:31.077619Z",
     "iopub.status.idle": "2022-10-15T18:21:31.266101Z",
     "shell.execute_reply": "2022-10-15T18:21:31.264987Z"
    },
    "papermill": {
     "duration": 0.197296,
     "end_time": "2022-10-15T18:21:31.268628",
     "exception": false,
     "start_time": "2022-10-15T18:21:31.071332",
     "status": "completed"
    },
    "tags": []
   },
   "outputs": [],
   "source": [
    "import pandas as pd\n",
    "from sklearn.model_selection import train_test_split\n",
    "\n",
    "# Read the data\n",
    "X = pd.read_csv('../input/train.csv', index_col='Id')\n",
    "X_test_full = pd.read_csv('../input/test.csv', index_col='Id')\n",
    "\n",
    "# Remove rows with missing target, separate target from predictors\n",
    "X.dropna(axis=0, subset=['SalePrice'], inplace=True)\n",
    "y = X.SalePrice              \n",
    "X.drop(['SalePrice'], axis=1, inplace=True)\n",
    "\n",
    "# Break off validation set from training data\n",
    "X_train_full, X_valid_full, y_train, y_valid = train_test_split(X, y, train_size=0.8, test_size=0.2,\n",
    "                                                                random_state=0)\n",
    "\n",
    "# \"Cardinality\" means the number of unique values in a column\n",
    "# Select categorical columns with relatively low cardinality (convenient but arbitrary)\n",
    "low_cardinality_cols = [cname for cname in X_train_full.columns if X_train_full[cname].nunique() < 10 and \n",
    "                        X_train_full[cname].dtype == \"object\"]\n",
    "\n",
    "# Select numeric columns\n",
    "numeric_cols = [cname for cname in X_train_full.columns if X_train_full[cname].dtype in ['int64', 'float64']]\n",
    "\n",
    "# Keep selected columns only\n",
    "my_cols = low_cardinality_cols + numeric_cols\n",
    "X_train = X_train_full[my_cols].copy()\n",
    "X_valid = X_valid_full[my_cols].copy()\n",
    "X_test = X_test_full[my_cols].copy()\n",
    "\n",
    "# One-hot encode the data (to shorten the code, we use pandas)\n",
    "X_train = pd.get_dummies(X_train)\n",
    "X_valid = pd.get_dummies(X_valid)\n",
    "X_test = pd.get_dummies(X_test)\n",
    "X_train, X_valid = X_train.align(X_valid, join='left', axis=1)\n",
    "X_train, X_test = X_train.align(X_test, join='left', axis=1)"
   ]
  },
  {
   "cell_type": "markdown",
   "id": "e8412a17",
   "metadata": {
    "papermill": {
     "duration": 0.00497,
     "end_time": "2022-10-15T18:21:31.278890",
     "exception": false,
     "start_time": "2022-10-15T18:21:31.273920",
     "status": "completed"
    },
    "tags": []
   },
   "source": [
    "# Step 1: Build model\n",
    "\n",
    "### Part A\n",
    "\n",
    "In this step, you'll build and train your first model with gradient boosting.\n",
    "\n",
    "- Begin by setting `my_model_1` to an XGBoost model.  Use the [XGBRegressor](https://xgboost.readthedocs.io/en/latest/python/python_api.html#xgboost.XGBRegressor) class, and set the random seed to 0 (`random_state=0`).  **Leave all other parameters as default.**\n",
    "- Then, fit the model to the training data in `X_train` and `y_train`."
   ]
  },
  {
   "cell_type": "code",
   "execution_count": 3,
   "id": "0b3a7267",
   "metadata": {
    "execution": {
     "iopub.execute_input": "2022-10-15T18:21:31.290593Z",
     "iopub.status.busy": "2022-10-15T18:21:31.290161Z",
     "iopub.status.idle": "2022-10-15T18:21:32.212758Z",
     "shell.execute_reply": "2022-10-15T18:21:32.211824Z"
    },
    "papermill": {
     "duration": 0.931299,
     "end_time": "2022-10-15T18:21:32.215275",
     "exception": false,
     "start_time": "2022-10-15T18:21:31.283976",
     "status": "completed"
    },
    "tags": []
   },
   "outputs": [
    {
     "data": {
      "application/javascript": [
       "parent.postMessage({\"jupyterEvent\": \"custom.exercise_interaction\", \"data\": {\"outcomeType\": 1, \"valueTowardsCompletion\": 0.5, \"interactionType\": 1, \"questionType\": 2, \"questionId\": \"1.1_Model1A\", \"learnToolsVersion\": \"0.3.4\", \"failureMessage\": \"\", \"exceptionClass\": \"\", \"trace\": \"\"}}, \"*\")"
      ],
      "text/plain": [
       "<IPython.core.display.Javascript object>"
      ]
     },
     "metadata": {},
     "output_type": "display_data"
    },
    {
     "data": {
      "text/markdown": [
       "<span style=\"color:#33cc33\">Correct</span>"
      ],
      "text/plain": [
       "Correct"
      ]
     },
     "metadata": {},
     "output_type": "display_data"
    }
   ],
   "source": [
    "from xgboost import XGBRegressor\n",
    "\n",
    "# Define the model\n",
    "my_model_1 = XGBRegressor(random_state=0)\n",
    "\n",
    "# Fit the model\n",
    "my_model_1.fit(X_train, y_train) # Your code here\n",
    "\n",
    "# Check your answer\n",
    "step_1.a.check()"
   ]
  },
  {
   "cell_type": "code",
   "execution_count": 4,
   "id": "9a97367b",
   "metadata": {
    "execution": {
     "iopub.execute_input": "2022-10-15T18:21:32.227969Z",
     "iopub.status.busy": "2022-10-15T18:21:32.227006Z",
     "iopub.status.idle": "2022-10-15T18:21:32.231503Z",
     "shell.execute_reply": "2022-10-15T18:21:32.230738Z"
    },
    "papermill": {
     "duration": 0.012896,
     "end_time": "2022-10-15T18:21:32.233574",
     "exception": false,
     "start_time": "2022-10-15T18:21:32.220678",
     "status": "completed"
    },
    "tags": []
   },
   "outputs": [],
   "source": [
    "# Lines below will give you a hint or solution code\n",
    "#step_1.a.hint()\n",
    "#step_1.a.solution()"
   ]
  },
  {
   "cell_type": "markdown",
   "id": "f2357717",
   "metadata": {
    "papermill": {
     "duration": 0.004988,
     "end_time": "2022-10-15T18:21:32.243775",
     "exception": false,
     "start_time": "2022-10-15T18:21:32.238787",
     "status": "completed"
    },
    "tags": []
   },
   "source": [
    "### Part B\n",
    "\n",
    "Set `predictions_1` to the model's predictions for the validation data.  Recall that the validation features are stored in `X_valid`."
   ]
  },
  {
   "cell_type": "code",
   "execution_count": 5,
   "id": "b5b8d38c",
   "metadata": {
    "execution": {
     "iopub.execute_input": "2022-10-15T18:21:32.255969Z",
     "iopub.status.busy": "2022-10-15T18:21:32.255333Z",
     "iopub.status.idle": "2022-10-15T18:21:32.277146Z",
     "shell.execute_reply": "2022-10-15T18:21:32.276319Z"
    },
    "papermill": {
     "duration": 0.030941,
     "end_time": "2022-10-15T18:21:32.279804",
     "exception": false,
     "start_time": "2022-10-15T18:21:32.248863",
     "status": "completed"
    },
    "tags": []
   },
   "outputs": [
    {
     "data": {
      "application/javascript": [
       "parent.postMessage({\"jupyterEvent\": \"custom.exercise_interaction\", \"data\": {\"outcomeType\": 1, \"valueTowardsCompletion\": 0.5, \"interactionType\": 1, \"questionType\": 2, \"questionId\": \"1.2_Model1B\", \"learnToolsVersion\": \"0.3.4\", \"failureMessage\": \"\", \"exceptionClass\": \"\", \"trace\": \"\"}}, \"*\")"
      ],
      "text/plain": [
       "<IPython.core.display.Javascript object>"
      ]
     },
     "metadata": {},
     "output_type": "display_data"
    },
    {
     "data": {
      "text/markdown": [
       "<span style=\"color:#33cc33\">Correct</span>"
      ],
      "text/plain": [
       "Correct"
      ]
     },
     "metadata": {},
     "output_type": "display_data"
    }
   ],
   "source": [
    "from sklearn.metrics import mean_absolute_error\n",
    "\n",
    "# Get predictions\n",
    "predictions_1 = my_model_1.predict(X_valid) # Your code here\n",
    "\n",
    "# Check your answer\n",
    "step_1.b.check()"
   ]
  },
  {
   "cell_type": "code",
   "execution_count": 6,
   "id": "11d9444b",
   "metadata": {
    "execution": {
     "iopub.execute_input": "2022-10-15T18:21:32.293507Z",
     "iopub.status.busy": "2022-10-15T18:21:32.292595Z",
     "iopub.status.idle": "2022-10-15T18:21:32.296633Z",
     "shell.execute_reply": "2022-10-15T18:21:32.295920Z"
    },
    "papermill": {
     "duration": 0.012485,
     "end_time": "2022-10-15T18:21:32.298657",
     "exception": false,
     "start_time": "2022-10-15T18:21:32.286172",
     "status": "completed"
    },
    "tags": []
   },
   "outputs": [],
   "source": [
    "# Lines below will give you a hint or solution code\n",
    "#step_1.b.hint()\n",
    "#step_1.b.solution()"
   ]
  },
  {
   "cell_type": "markdown",
   "id": "16250b81",
   "metadata": {
    "papermill": {
     "duration": 0.005139,
     "end_time": "2022-10-15T18:21:32.309048",
     "exception": false,
     "start_time": "2022-10-15T18:21:32.303909",
     "status": "completed"
    },
    "tags": []
   },
   "source": [
    "### Part C\n",
    "\n",
    "Finally, use the `mean_absolute_error()` function to calculate the mean absolute error (MAE) corresponding to the predictions for the validation set.  Recall that the labels for the validation data are stored in `y_valid`."
   ]
  },
  {
   "cell_type": "code",
   "execution_count": 7,
   "id": "ef03ea17",
   "metadata": {
    "execution": {
     "iopub.execute_input": "2022-10-15T18:21:32.322035Z",
     "iopub.status.busy": "2022-10-15T18:21:32.321728Z",
     "iopub.status.idle": "2022-10-15T18:21:32.332351Z",
     "shell.execute_reply": "2022-10-15T18:21:32.331082Z"
    },
    "papermill": {
     "duration": 0.019147,
     "end_time": "2022-10-15T18:21:32.334582",
     "exception": false,
     "start_time": "2022-10-15T18:21:32.315435",
     "status": "completed"
    },
    "tags": []
   },
   "outputs": [
    {
     "name": "stdout",
     "output_type": "stream",
     "text": [
      "Mean Absolute Error: 17662.736729452055\n"
     ]
    },
    {
     "data": {
      "application/javascript": [
       "parent.postMessage({\"jupyterEvent\": \"custom.exercise_interaction\", \"data\": {\"outcomeType\": 1, \"valueTowardsCompletion\": 0.5, \"interactionType\": 1, \"questionType\": 2, \"questionId\": \"1.3_Model1C\", \"learnToolsVersion\": \"0.3.4\", \"failureMessage\": \"\", \"exceptionClass\": \"\", \"trace\": \"\"}}, \"*\")"
      ],
      "text/plain": [
       "<IPython.core.display.Javascript object>"
      ]
     },
     "metadata": {},
     "output_type": "display_data"
    },
    {
     "data": {
      "text/markdown": [
       "<span style=\"color:#33cc33\">Correct</span>"
      ],
      "text/plain": [
       "Correct"
      ]
     },
     "metadata": {},
     "output_type": "display_data"
    }
   ],
   "source": [
    "# Calculate MAE\n",
    "mae_1 = mean_absolute_error(predictions_1, y_valid) # Your code here\n",
    "\n",
    "# Uncomment to print MAE\n",
    "print(\"Mean Absolute Error:\" , mae_1)\n",
    "\n",
    "# Check your answer\n",
    "step_1.c.check()"
   ]
  },
  {
   "cell_type": "code",
   "execution_count": 8,
   "id": "10563ed9",
   "metadata": {
    "execution": {
     "iopub.execute_input": "2022-10-15T18:21:32.347808Z",
     "iopub.status.busy": "2022-10-15T18:21:32.347140Z",
     "iopub.status.idle": "2022-10-15T18:21:32.351411Z",
     "shell.execute_reply": "2022-10-15T18:21:32.350661Z"
    },
    "papermill": {
     "duration": 0.013119,
     "end_time": "2022-10-15T18:21:32.353414",
     "exception": false,
     "start_time": "2022-10-15T18:21:32.340295",
     "status": "completed"
    },
    "tags": []
   },
   "outputs": [],
   "source": [
    "# Lines below will give you a hint or solution code\n",
    "#step_1.c.hint()\n",
    "#step_1.c.solution()"
   ]
  },
  {
   "cell_type": "markdown",
   "id": "127519e2",
   "metadata": {
    "papermill": {
     "duration": 0.005397,
     "end_time": "2022-10-15T18:21:32.364343",
     "exception": false,
     "start_time": "2022-10-15T18:21:32.358946",
     "status": "completed"
    },
    "tags": []
   },
   "source": [
    "# Step 2: Improve the model\n",
    "\n",
    "Now that you've trained a default model as baseline, it's time to tinker with the parameters, to see if you can get better performance!\n",
    "- Begin by setting `my_model_2` to an XGBoost model, using the [XGBRegressor](https://xgboost.readthedocs.io/en/latest/python/python_api.html#xgboost.XGBRegressor) class.  Use what you learned in the previous tutorial to figure out how to change the default parameters (like `n_estimators` and `learning_rate`) to get better results.\n",
    "- Then, fit the model to the training data in `X_train` and `y_train`.\n",
    "- Set `predictions_2` to the model's predictions for the validation data.  Recall that the validation features are stored in `X_valid`.\n",
    "- Finally, use the `mean_absolute_error()` function to calculate the mean absolute error (MAE) corresponding to the predictions on the validation set.  Recall that the labels for the validation data are stored in `y_valid`.\n",
    "\n",
    "In order for this step to be marked correct, your model in `my_model_2` must attain lower MAE than the model in `my_model_1`. "
   ]
  },
  {
   "cell_type": "code",
   "execution_count": 9,
   "id": "fb9279dd",
   "metadata": {
    "execution": {
     "iopub.execute_input": "2022-10-15T18:21:32.377217Z",
     "iopub.status.busy": "2022-10-15T18:21:32.376842Z",
     "iopub.status.idle": "2022-10-15T18:21:42.006764Z",
     "shell.execute_reply": "2022-10-15T18:21:42.005315Z"
    },
    "papermill": {
     "duration": 9.639179,
     "end_time": "2022-10-15T18:21:42.009082",
     "exception": false,
     "start_time": "2022-10-15T18:21:32.369903",
     "status": "completed"
    },
    "tags": []
   },
   "outputs": [
    {
     "name": "stdout",
     "output_type": "stream",
     "text": [
      "Mean Absolute Error: 16688.691513270547\n"
     ]
    },
    {
     "data": {
      "application/javascript": [
       "parent.postMessage({\"jupyterEvent\": \"custom.exercise_interaction\", \"data\": {\"outcomeType\": 1, \"valueTowardsCompletion\": 0.5, \"interactionType\": 1, \"questionType\": 2, \"questionId\": \"2_Model2\", \"learnToolsVersion\": \"0.3.4\", \"failureMessage\": \"\", \"exceptionClass\": \"\", \"trace\": \"\"}}, \"*\")"
      ],
      "text/plain": [
       "<IPython.core.display.Javascript object>"
      ]
     },
     "metadata": {},
     "output_type": "display_data"
    },
    {
     "data": {
      "text/markdown": [
       "<span style=\"color:#33cc33\">Correct</span>"
      ],
      "text/plain": [
       "Correct"
      ]
     },
     "metadata": {},
     "output_type": "display_data"
    }
   ],
   "source": [
    "# Define the model\n",
    "my_model_2 = XGBRegressor(n_estimators=1000, learning_rate=0.05) # Your code here\n",
    "\n",
    "# Fit the model\n",
    "my_model_2.fit(X_train, y_train)\n",
    "\n",
    "# Get predictions\n",
    "predictions_2 = my_model_2.predict(X_valid)\n",
    "\n",
    "# Calculate MAE\n",
    "mae_2 = mean_absolute_error(predictions_2, y_valid)\n",
    "\n",
    "# Uncomment to print MAE\n",
    "print(\"Mean Absolute Error:\" , mae_2)\n",
    "\n",
    "# Check your answer\n",
    "step_2.check()"
   ]
  },
  {
   "cell_type": "code",
   "execution_count": 10,
   "id": "5d2502f3",
   "metadata": {
    "execution": {
     "iopub.execute_input": "2022-10-15T18:21:42.027381Z",
     "iopub.status.busy": "2022-10-15T18:21:42.026992Z",
     "iopub.status.idle": "2022-10-15T18:21:42.031108Z",
     "shell.execute_reply": "2022-10-15T18:21:42.030323Z"
    },
    "papermill": {
     "duration": 0.013633,
     "end_time": "2022-10-15T18:21:42.033251",
     "exception": false,
     "start_time": "2022-10-15T18:21:42.019618",
     "status": "completed"
    },
    "tags": []
   },
   "outputs": [],
   "source": [
    "# Lines below will give you a hint or solution code\n",
    "#step_2.hint()\n",
    "#step_2.solution()"
   ]
  },
  {
   "cell_type": "markdown",
   "id": "f0dba5f1",
   "metadata": {
    "papermill": {
     "duration": 0.005702,
     "end_time": "2022-10-15T18:21:42.044958",
     "exception": false,
     "start_time": "2022-10-15T18:21:42.039256",
     "status": "completed"
    },
    "tags": []
   },
   "source": [
    "# Step 3: Break the model\n",
    "\n",
    "In this step, you will create a model that performs worse than the original model in Step 1.  This will help you to develop your intuition for how to set parameters.  You might even find that you accidentally get better performance, which is ultimately a nice problem to have and a valuable learning experience!\n",
    "- Begin by setting `my_model_3` to an XGBoost model, using the [XGBRegressor](https://xgboost.readthedocs.io/en/latest/python/python_api.html#xgboost.XGBRegressor) class.  Use what you learned in the previous tutorial to figure out how to change the default parameters (like `n_estimators` and `learning_rate`) to design a model to get high MAE.\n",
    "- Then, fit the model to the training data in `X_train` and `y_train`.\n",
    "- Set `predictions_3` to the model's predictions for the validation data.  Recall that the validation features are stored in `X_valid`.\n",
    "- Finally, use the `mean_absolute_error()` function to calculate the mean absolute error (MAE) corresponding to the predictions on the validation set.  Recall that the labels for the validation data are stored in `y_valid`.\n",
    "\n",
    "In order for this step to be marked correct, your model in `my_model_3` must attain higher MAE than the model in `my_model_1`. "
   ]
  },
  {
   "cell_type": "code",
   "execution_count": 11,
   "id": "9b487741",
   "metadata": {
    "execution": {
     "iopub.execute_input": "2022-10-15T18:21:42.058942Z",
     "iopub.status.busy": "2022-10-15T18:21:42.058187Z",
     "iopub.status.idle": "2022-10-15T18:21:42.118391Z",
     "shell.execute_reply": "2022-10-15T18:21:42.117226Z"
    },
    "papermill": {
     "duration": 0.069625,
     "end_time": "2022-10-15T18:21:42.120475",
     "exception": false,
     "start_time": "2022-10-15T18:21:42.050850",
     "status": "completed"
    },
    "tags": []
   },
   "outputs": [
    {
     "name": "stdout",
     "output_type": "stream",
     "text": [
      "Mean Absolute Error: 127895.0828807256\n"
     ]
    },
    {
     "data": {
      "application/javascript": [
       "parent.postMessage({\"jupyterEvent\": \"custom.exercise_interaction\", \"data\": {\"outcomeType\": 1, \"valueTowardsCompletion\": 0.5, \"interactionType\": 1, \"questionType\": 2, \"questionId\": \"3_Model3\", \"learnToolsVersion\": \"0.3.4\", \"failureMessage\": \"\", \"exceptionClass\": \"\", \"trace\": \"\"}}, \"*\")"
      ],
      "text/plain": [
       "<IPython.core.display.Javascript object>"
      ]
     },
     "metadata": {},
     "output_type": "display_data"
    },
    {
     "data": {
      "text/markdown": [
       "<span style=\"color:#33cc33\">Correct</span>"
      ],
      "text/plain": [
       "Correct"
      ]
     },
     "metadata": {},
     "output_type": "display_data"
    }
   ],
   "source": [
    "# Define the model\n",
    "my_model_3 = XGBRegressor(n_estimators=1)\n",
    "\n",
    "# Fit the model\n",
    "my_model_3.fit(X_train, y_train)\n",
    "\n",
    "# Get predictions\n",
    "predictions_3 = my_model_3.predict(X_valid)\n",
    "\n",
    "# Calculate MAE\n",
    "mae_3 = mean_absolute_error(predictions_3, y_valid)\n",
    "\n",
    "# Uncomment to print MAE\n",
    "print(\"Mean Absolute Error:\" , mae_3)\n",
    "\n",
    "# Check your answer\n",
    "step_3.check()"
   ]
  },
  {
   "cell_type": "code",
   "execution_count": 12,
   "id": "ccfbf388",
   "metadata": {
    "execution": {
     "iopub.execute_input": "2022-10-15T18:21:42.136929Z",
     "iopub.status.busy": "2022-10-15T18:21:42.136590Z",
     "iopub.status.idle": "2022-10-15T18:21:42.140311Z",
     "shell.execute_reply": "2022-10-15T18:21:42.139612Z"
    },
    "papermill": {
     "duration": 0.014114,
     "end_time": "2022-10-15T18:21:42.142025",
     "exception": false,
     "start_time": "2022-10-15T18:21:42.127911",
     "status": "completed"
    },
    "tags": []
   },
   "outputs": [],
   "source": [
    "# Lines below will give you a hint or solution code\n",
    "#step_3.hint()\n",
    "#step_3.solution()"
   ]
  },
  {
   "cell_type": "markdown",
   "id": "694e848b",
   "metadata": {
    "papermill": {
     "duration": 0.006251,
     "end_time": "2022-10-15T18:21:42.154364",
     "exception": false,
     "start_time": "2022-10-15T18:21:42.148113",
     "status": "completed"
    },
    "tags": []
   },
   "source": [
    "# Keep going\n",
    "\n",
    "Continue to learn about **[data leakage](https://www.kaggle.com/alexisbcook/data-leakage)**.  This is an important issue for a data scientist to understand, and it has the potential to ruin your models in subtle and dangerous ways!"
   ]
  },
  {
   "cell_type": "markdown",
   "id": "d1c92208",
   "metadata": {
    "papermill": {
     "duration": 0.005823,
     "end_time": "2022-10-15T18:21:42.166485",
     "exception": false,
     "start_time": "2022-10-15T18:21:42.160662",
     "status": "completed"
    },
    "tags": []
   },
   "source": [
    "---\n",
    "\n",
    "\n",
    "\n",
    "\n",
    "*Have questions or comments? Visit the [course discussion forum](https://www.kaggle.com/learn/intermediate-machine-learning/discussion) to chat with other learners.*"
   ]
  }
 ],
 "metadata": {
  "kernelspec": {
   "display_name": "Python 3",
   "language": "python",
   "name": "python3"
  },
  "language_info": {
   "codemirror_mode": {
    "name": "ipython",
    "version": 3
   },
   "file_extension": ".py",
   "mimetype": "text/x-python",
   "name": "python",
   "nbconvert_exporter": "python",
   "pygments_lexer": "ipython3",
   "version": "3.7.12"
  },
  "papermill": {
   "default_parameters": {},
   "duration": 22.698349,
   "end_time": "2022-10-15T18:21:42.792697",
   "environment_variables": {},
   "exception": null,
   "input_path": "__notebook__.ipynb",
   "output_path": "__notebook__.ipynb",
   "parameters": {},
   "start_time": "2022-10-15T18:21:20.094348",
   "version": "2.3.4"
  }
 },
 "nbformat": 4,
 "nbformat_minor": 5
}
