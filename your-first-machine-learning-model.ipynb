{
 "cells": [
  {
   "cell_type": "markdown",
   "id": "4550c91c",
   "metadata": {
    "papermill": {
     "duration": 0.007035,
     "end_time": "2022-10-15T10:58:13.164440",
     "exception": false,
     "start_time": "2022-10-15T10:58:13.157405",
     "status": "completed"
    },
    "tags": []
   },
   "source": [
    "**This notebook is an exercise in the [Introduction to Machine Learning](https://www.kaggle.com/learn/intro-to-machine-learning) course.  You can reference the tutorial at [this link](https://www.kaggle.com/dansbecker/your-first-machine-learning-model).**\n",
    "\n",
    "---\n"
   ]
  },
  {
   "cell_type": "markdown",
   "id": "e36f19ab",
   "metadata": {
    "papermill": {
     "duration": 0.004933,
     "end_time": "2022-10-15T10:58:13.175436",
     "exception": false,
     "start_time": "2022-10-15T10:58:13.170503",
     "status": "completed"
    },
    "tags": []
   },
   "source": [
    "## Recap\n",
    "So far, you have loaded your data and reviewed it with the following code. Run this cell to set up your coding environment where the previous step left off."
   ]
  },
  {
   "cell_type": "code",
   "execution_count": 1,
   "id": "187a86f1",
   "metadata": {
    "execution": {
     "iopub.execute_input": "2022-10-15T10:58:13.188203Z",
     "iopub.status.busy": "2022-10-15T10:58:13.187395Z",
     "iopub.status.idle": "2022-10-15T10:58:14.540046Z",
     "shell.execute_reply": "2022-10-15T10:58:14.538296Z"
    },
    "papermill": {
     "duration": 1.362505,
     "end_time": "2022-10-15T10:58:14.543180",
     "exception": false,
     "start_time": "2022-10-15T10:58:13.180675",
     "status": "completed"
    },
    "tags": []
   },
   "outputs": [
    {
     "name": "stdout",
     "output_type": "stream",
     "text": [
      "Setup Complete\n"
     ]
    }
   ],
   "source": [
    "# Code you have previously used to load data\n",
    "import pandas as pd\n",
    "\n",
    "# Path of the file to read\n",
    "iowa_file_path = '../input/home-data-for-ml-course/train.csv'\n",
    "\n",
    "home_data = pd.read_csv(iowa_file_path)\n",
    "\n",
    "# Set up code checking\n",
    "from learntools.core import binder\n",
    "binder.bind(globals())\n",
    "from learntools.machine_learning.ex3 import *\n",
    "\n",
    "print(\"Setup Complete\")"
   ]
  },
  {
   "cell_type": "markdown",
   "id": "a2a689da",
   "metadata": {
    "papermill": {
     "duration": 0.005132,
     "end_time": "2022-10-15T10:58:14.553940",
     "exception": false,
     "start_time": "2022-10-15T10:58:14.548808",
     "status": "completed"
    },
    "tags": []
   },
   "source": [
    "# Exercises\n",
    "\n",
    "## Step 1: Specify Prediction Target\n",
    "Select the target variable, which corresponds to the sales price. Save this to a new variable called `y`. You'll need to print a list of the columns to find the name of the column you need.\n"
   ]
  },
  {
   "cell_type": "code",
   "execution_count": 2,
   "id": "529f82fe",
   "metadata": {
    "execution": {
     "iopub.execute_input": "2022-10-15T10:58:14.566432Z",
     "iopub.status.busy": "2022-10-15T10:58:14.565998Z",
     "iopub.status.idle": "2022-10-15T10:58:14.572367Z",
     "shell.execute_reply": "2022-10-15T10:58:14.571207Z"
    },
    "papermill": {
     "duration": 0.016129,
     "end_time": "2022-10-15T10:58:14.575419",
     "exception": false,
     "start_time": "2022-10-15T10:58:14.559290",
     "status": "completed"
    },
    "tags": []
   },
   "outputs": [
    {
     "name": "stdout",
     "output_type": "stream",
     "text": [
      "Index(['Id', 'MSSubClass', 'MSZoning', 'LotFrontage', 'LotArea', 'Street',\n",
      "       'Alley', 'LotShape', 'LandContour', 'Utilities', 'LotConfig',\n",
      "       'LandSlope', 'Neighborhood', 'Condition1', 'Condition2', 'BldgType',\n",
      "       'HouseStyle', 'OverallQual', 'OverallCond', 'YearBuilt', 'YearRemodAdd',\n",
      "       'RoofStyle', 'RoofMatl', 'Exterior1st', 'Exterior2nd', 'MasVnrType',\n",
      "       'MasVnrArea', 'ExterQual', 'ExterCond', 'Foundation', 'BsmtQual',\n",
      "       'BsmtCond', 'BsmtExposure', 'BsmtFinType1', 'BsmtFinSF1',\n",
      "       'BsmtFinType2', 'BsmtFinSF2', 'BsmtUnfSF', 'TotalBsmtSF', 'Heating',\n",
      "       'HeatingQC', 'CentralAir', 'Electrical', '1stFlrSF', '2ndFlrSF',\n",
      "       'LowQualFinSF', 'GrLivArea', 'BsmtFullBath', 'BsmtHalfBath', 'FullBath',\n",
      "       'HalfBath', 'BedroomAbvGr', 'KitchenAbvGr', 'KitchenQual',\n",
      "       'TotRmsAbvGrd', 'Functional', 'Fireplaces', 'FireplaceQu', 'GarageType',\n",
      "       'GarageYrBlt', 'GarageFinish', 'GarageCars', 'GarageArea', 'GarageQual',\n",
      "       'GarageCond', 'PavedDrive', 'WoodDeckSF', 'OpenPorchSF',\n",
      "       'EnclosedPorch', '3SsnPorch', 'ScreenPorch', 'PoolArea', 'PoolQC',\n",
      "       'Fence', 'MiscFeature', 'MiscVal', 'MoSold', 'YrSold', 'SaleType',\n",
      "       'SaleCondition', 'SalePrice'],\n",
      "      dtype='object')\n"
     ]
    }
   ],
   "source": [
    "# print the list of columns in the dataset to find the name of the prediction target\n",
    "print(home_data.columns)"
   ]
  },
  {
   "cell_type": "code",
   "execution_count": 3,
   "id": "d51f0bd2",
   "metadata": {
    "execution": {
     "iopub.execute_input": "2022-10-15T10:58:14.589098Z",
     "iopub.status.busy": "2022-10-15T10:58:14.588660Z",
     "iopub.status.idle": "2022-10-15T10:58:14.605989Z",
     "shell.execute_reply": "2022-10-15T10:58:14.604996Z"
    },
    "papermill": {
     "duration": 0.026958,
     "end_time": "2022-10-15T10:58:14.608132",
     "exception": false,
     "start_time": "2022-10-15T10:58:14.581174",
     "status": "completed"
    },
    "tags": []
   },
   "outputs": [
    {
     "data": {
      "application/javascript": [
       "parent.postMessage({\"jupyterEvent\": \"custom.exercise_interaction\", \"data\": {\"outcomeType\": 1, \"valueTowardsCompletion\": 0.25, \"interactionType\": 1, \"questionType\": 2, \"questionId\": \"1_SetTarget\", \"learnToolsVersion\": \"0.3.4\", \"failureMessage\": \"\", \"exceptionClass\": \"\", \"trace\": \"\"}}, \"*\")"
      ],
      "text/plain": [
       "<IPython.core.display.Javascript object>"
      ]
     },
     "metadata": {},
     "output_type": "display_data"
    },
    {
     "data": {
      "text/markdown": [
       "<span style=\"color:#33cc33\">Correct</span>"
      ],
      "text/plain": [
       "Correct"
      ]
     },
     "metadata": {},
     "output_type": "display_data"
    }
   ],
   "source": [
    "y = home_data.SalePrice\n",
    "\n",
    "# Check your answer\n",
    "step_1.check()"
   ]
  },
  {
   "cell_type": "code",
   "execution_count": 4,
   "id": "8cc4655b",
   "metadata": {
    "execution": {
     "iopub.execute_input": "2022-10-15T10:58:14.621751Z",
     "iopub.status.busy": "2022-10-15T10:58:14.621074Z",
     "iopub.status.idle": "2022-10-15T10:58:14.626608Z",
     "shell.execute_reply": "2022-10-15T10:58:14.625391Z"
    },
    "papermill": {
     "duration": 0.014981,
     "end_time": "2022-10-15T10:58:14.628890",
     "exception": false,
     "start_time": "2022-10-15T10:58:14.613909",
     "status": "completed"
    },
    "tags": []
   },
   "outputs": [],
   "source": [
    "# The lines below will show you a hint or the solution.\n",
    "#step_1.hint() \n",
    "#step_1.solution()"
   ]
  },
  {
   "cell_type": "markdown",
   "id": "28788346",
   "metadata": {
    "papermill": {
     "duration": 0.005553,
     "end_time": "2022-10-15T10:58:14.640395",
     "exception": false,
     "start_time": "2022-10-15T10:58:14.634842",
     "status": "completed"
    },
    "tags": []
   },
   "source": [
    "## Step 2: Create X\n",
    "Now you will create a DataFrame called `X` holding the predictive features.\n",
    "\n",
    "Since you want only some columns from the original data, you'll first create a list with the names of the columns you want in `X`.\n",
    "\n",
    "You'll use just the following columns in the list (you can copy and paste the whole list to save some typing, though you'll still need to add quotes):\n",
    "  * LotArea\n",
    "  * YearBuilt\n",
    "  * 1stFlrSF\n",
    "  * 2ndFlrSF\n",
    "  * FullBath\n",
    "  * BedroomAbvGr\n",
    "  * TotRmsAbvGrd\n",
    "\n",
    "After you've created that list of features, use it to create the DataFrame that you'll use to fit the model."
   ]
  },
  {
   "cell_type": "code",
   "execution_count": 5,
   "id": "e16cca95",
   "metadata": {
    "execution": {
     "iopub.execute_input": "2022-10-15T10:58:14.654295Z",
     "iopub.status.busy": "2022-10-15T10:58:14.653528Z",
     "iopub.status.idle": "2022-10-15T10:58:14.667211Z",
     "shell.execute_reply": "2022-10-15T10:58:14.666229Z"
    },
    "papermill": {
     "duration": 0.023154,
     "end_time": "2022-10-15T10:58:14.669365",
     "exception": false,
     "start_time": "2022-10-15T10:58:14.646211",
     "status": "completed"
    },
    "tags": []
   },
   "outputs": [
    {
     "data": {
      "application/javascript": [
       "parent.postMessage({\"jupyterEvent\": \"custom.exercise_interaction\", \"data\": {\"outcomeType\": 1, \"valueTowardsCompletion\": 0.25, \"interactionType\": 1, \"questionType\": 2, \"questionId\": \"2_SelectPredictionData\", \"learnToolsVersion\": \"0.3.4\", \"failureMessage\": \"\", \"exceptionClass\": \"\", \"trace\": \"\"}}, \"*\")"
      ],
      "text/plain": [
       "<IPython.core.display.Javascript object>"
      ]
     },
     "metadata": {},
     "output_type": "display_data"
    },
    {
     "data": {
      "text/markdown": [
       "<span style=\"color:#33cc33\">Correct</span>"
      ],
      "text/plain": [
       "Correct"
      ]
     },
     "metadata": {},
     "output_type": "display_data"
    }
   ],
   "source": [
    "# Create the list of features below\n",
    "feature_names = [\"LotArea\", \"YearBuilt\", \"1stFlrSF\", \"2ndFlrSF\",\n",
    "                      \"FullBath\", \"BedroomAbvGr\", \"TotRmsAbvGrd\"]\n",
    "\n",
    "\n",
    "# Select data corresponding to features in feature_names\n",
    "X = home_data[feature_names]\n",
    "\n",
    "# Check your answer\n",
    "step_2.check()"
   ]
  },
  {
   "cell_type": "code",
   "execution_count": 6,
   "id": "da8297de",
   "metadata": {
    "execution": {
     "iopub.execute_input": "2022-10-15T10:58:14.683107Z",
     "iopub.status.busy": "2022-10-15T10:58:14.682671Z",
     "iopub.status.idle": "2022-10-15T10:58:14.687557Z",
     "shell.execute_reply": "2022-10-15T10:58:14.686481Z"
    },
    "papermill": {
     "duration": 0.014421,
     "end_time": "2022-10-15T10:58:14.689872",
     "exception": false,
     "start_time": "2022-10-15T10:58:14.675451",
     "status": "completed"
    },
    "tags": []
   },
   "outputs": [],
   "source": [
    "# step_2.hint()\n",
    "#step_2.solution()"
   ]
  },
  {
   "cell_type": "markdown",
   "id": "1ac0022e",
   "metadata": {
    "papermill": {
     "duration": 0.005723,
     "end_time": "2022-10-15T10:58:14.701726",
     "exception": false,
     "start_time": "2022-10-15T10:58:14.696003",
     "status": "completed"
    },
    "tags": []
   },
   "source": [
    "## Review Data\n",
    "Before building a model, take a quick look at **X** to verify it looks sensible"
   ]
  },
  {
   "cell_type": "code",
   "execution_count": 7,
   "id": "b09e092c",
   "metadata": {
    "execution": {
     "iopub.execute_input": "2022-10-15T10:58:14.715860Z",
     "iopub.status.busy": "2022-10-15T10:58:14.715066Z",
     "iopub.status.idle": "2022-10-15T10:58:14.753882Z",
     "shell.execute_reply": "2022-10-15T10:58:14.752096Z"
    },
    "papermill": {
     "duration": 0.048829,
     "end_time": "2022-10-15T10:58:14.756479",
     "exception": false,
     "start_time": "2022-10-15T10:58:14.707650",
     "status": "completed"
    },
    "tags": []
   },
   "outputs": [
    {
     "name": "stdout",
     "output_type": "stream",
     "text": [
      "             LotArea    YearBuilt     1stFlrSF     2ndFlrSF     FullBath  \\\n",
      "count    1460.000000  1460.000000  1460.000000  1460.000000  1460.000000   \n",
      "mean    10516.828082  1971.267808  1162.626712   346.992466     1.565068   \n",
      "std      9981.264932    30.202904   386.587738   436.528436     0.550916   \n",
      "min      1300.000000  1872.000000   334.000000     0.000000     0.000000   \n",
      "25%      7553.500000  1954.000000   882.000000     0.000000     1.000000   \n",
      "50%      9478.500000  1973.000000  1087.000000     0.000000     2.000000   \n",
      "75%     11601.500000  2000.000000  1391.250000   728.000000     2.000000   \n",
      "max    215245.000000  2010.000000  4692.000000  2065.000000     3.000000   \n",
      "\n",
      "       BedroomAbvGr  TotRmsAbvGrd  \n",
      "count   1460.000000   1460.000000  \n",
      "mean       2.866438      6.517808  \n",
      "std        0.815778      1.625393  \n",
      "min        0.000000      2.000000  \n",
      "25%        2.000000      5.000000  \n",
      "50%        3.000000      6.000000  \n",
      "75%        3.000000      7.000000  \n",
      "max        8.000000     14.000000  \n",
      "   LotArea  YearBuilt  1stFlrSF  2ndFlrSF  FullBath  BedroomAbvGr  \\\n",
      "0     8450       2003       856       854         2             3   \n",
      "1     9600       1976      1262         0         2             3   \n",
      "2    11250       2001       920       866         2             3   \n",
      "3     9550       1915       961       756         1             3   \n",
      "4    14260       2000      1145      1053         2             4   \n",
      "\n",
      "   TotRmsAbvGrd  \n",
      "0             8  \n",
      "1             6  \n",
      "2             6  \n",
      "3             7  \n",
      "4             9  \n"
     ]
    }
   ],
   "source": [
    "# Review data\n",
    "# print description or statistics from X\n",
    "print(X.describe())\n",
    "\n",
    "# print the top few lines\n",
    "print(X.head())"
   ]
  },
  {
   "cell_type": "markdown",
   "id": "349d1867",
   "metadata": {
    "papermill": {
     "duration": 0.005774,
     "end_time": "2022-10-15T10:58:14.769442",
     "exception": false,
     "start_time": "2022-10-15T10:58:14.763668",
     "status": "completed"
    },
    "tags": []
   },
   "source": [
    "## Step 3: Specify and Fit Model\n",
    "Create a `DecisionTreeRegressor` and save it iowa_model. Ensure you've done the relevant import from sklearn to run this command.\n",
    "\n",
    "Then fit the model you just created using the data in `X` and `y` that you saved above."
   ]
  },
  {
   "cell_type": "code",
   "execution_count": 8,
   "id": "f6fb1126",
   "metadata": {
    "execution": {
     "iopub.execute_input": "2022-10-15T10:58:14.784683Z",
     "iopub.status.busy": "2022-10-15T10:58:14.784273Z",
     "iopub.status.idle": "2022-10-15T10:58:14.803651Z",
     "shell.execute_reply": "2022-10-15T10:58:14.802371Z"
    },
    "papermill": {
     "duration": 0.030257,
     "end_time": "2022-10-15T10:58:14.806256",
     "exception": false,
     "start_time": "2022-10-15T10:58:14.775999",
     "status": "completed"
    },
    "tags": []
   },
   "outputs": [
    {
     "data": {
      "application/javascript": [
       "parent.postMessage({\"jupyterEvent\": \"custom.exercise_interaction\", \"data\": {\"outcomeType\": 1, \"valueTowardsCompletion\": 0.25, \"interactionType\": 1, \"questionType\": 2, \"questionId\": \"3_CreateModel\", \"learnToolsVersion\": \"0.3.4\", \"failureMessage\": \"\", \"exceptionClass\": \"\", \"trace\": \"\"}}, \"*\")"
      ],
      "text/plain": [
       "<IPython.core.display.Javascript object>"
      ]
     },
     "metadata": {},
     "output_type": "display_data"
    },
    {
     "data": {
      "text/markdown": [
       "<span style=\"color:#33cc33\">Correct</span>"
      ],
      "text/plain": [
       "Correct"
      ]
     },
     "metadata": {},
     "output_type": "display_data"
    }
   ],
   "source": [
    "from sklearn.tree import DecisionTreeRegressor\n",
    "#specify the model. \n",
    "#For model reproducibility, set a numeric value for random_state when specifying the model\n",
    "iowa_model = DecisionTreeRegressor(random_state=1)\n",
    "\n",
    "# Fit the model\n",
    "iowa_model.fit(X, y)\n",
    "\n",
    "# Check your answer\n",
    "step_3.check()"
   ]
  },
  {
   "cell_type": "code",
   "execution_count": 9,
   "id": "a851fdf0",
   "metadata": {
    "execution": {
     "iopub.execute_input": "2022-10-15T10:58:14.820936Z",
     "iopub.status.busy": "2022-10-15T10:58:14.820521Z",
     "iopub.status.idle": "2022-10-15T10:58:14.825716Z",
     "shell.execute_reply": "2022-10-15T10:58:14.824496Z"
    },
    "papermill": {
     "duration": 0.015612,
     "end_time": "2022-10-15T10:58:14.828240",
     "exception": false,
     "start_time": "2022-10-15T10:58:14.812628",
     "status": "completed"
    },
    "tags": []
   },
   "outputs": [],
   "source": [
    "# step_3.hint()\n",
    "#step_3.solution()"
   ]
  },
  {
   "cell_type": "markdown",
   "id": "cdd76fb3",
   "metadata": {
    "papermill": {
     "duration": 0.006148,
     "end_time": "2022-10-15T10:58:14.840708",
     "exception": false,
     "start_time": "2022-10-15T10:58:14.834560",
     "status": "completed"
    },
    "tags": []
   },
   "source": [
    "## Step 4: Make Predictions\n",
    "Make predictions with the model's `predict` command using `X` as the data. Save the results to a variable called `predictions`."
   ]
  },
  {
   "cell_type": "code",
   "execution_count": 10,
   "id": "f2df8658",
   "metadata": {
    "execution": {
     "iopub.execute_input": "2022-10-15T10:58:14.855139Z",
     "iopub.status.busy": "2022-10-15T10:58:14.854738Z",
     "iopub.status.idle": "2022-10-15T10:58:14.871134Z",
     "shell.execute_reply": "2022-10-15T10:58:14.869986Z"
    },
    "papermill": {
     "duration": 0.026646,
     "end_time": "2022-10-15T10:58:14.873622",
     "exception": false,
     "start_time": "2022-10-15T10:58:14.846976",
     "status": "completed"
    },
    "tags": []
   },
   "outputs": [
    {
     "name": "stdout",
     "output_type": "stream",
     "text": [
      "[208500. 181500. 223500. ... 266500. 142125. 147500.]\n"
     ]
    },
    {
     "data": {
      "application/javascript": [
       "parent.postMessage({\"jupyterEvent\": \"custom.exercise_interaction\", \"data\": {\"outcomeType\": 1, \"valueTowardsCompletion\": 0.25, \"interactionType\": 1, \"questionType\": 2, \"questionId\": \"4_MakePredictions\", \"learnToolsVersion\": \"0.3.4\", \"failureMessage\": \"\", \"exceptionClass\": \"\", \"trace\": \"\"}}, \"*\")"
      ],
      "text/plain": [
       "<IPython.core.display.Javascript object>"
      ]
     },
     "metadata": {},
     "output_type": "display_data"
    },
    {
     "data": {
      "text/markdown": [
       "<span style=\"color:#33cc33\">Correct</span>"
      ],
      "text/plain": [
       "Correct"
      ]
     },
     "metadata": {},
     "output_type": "display_data"
    }
   ],
   "source": [
    "predictions = iowa_model.predict(X)\n",
    "print(predictions)\n",
    "\n",
    "# Check your answer\n",
    "step_4.check()"
   ]
  },
  {
   "cell_type": "code",
   "execution_count": 11,
   "id": "3c70faa6",
   "metadata": {
    "execution": {
     "iopub.execute_input": "2022-10-15T10:58:14.889793Z",
     "iopub.status.busy": "2022-10-15T10:58:14.889190Z",
     "iopub.status.idle": "2022-10-15T10:58:14.894507Z",
     "shell.execute_reply": "2022-10-15T10:58:14.893213Z"
    },
    "papermill": {
     "duration": 0.016449,
     "end_time": "2022-10-15T10:58:14.897097",
     "exception": false,
     "start_time": "2022-10-15T10:58:14.880648",
     "status": "completed"
    },
    "tags": []
   },
   "outputs": [],
   "source": [
    "# step_4.hint()\n",
    "#step_4.solution()"
   ]
  },
  {
   "cell_type": "markdown",
   "id": "4ccc1e50",
   "metadata": {
    "papermill": {
     "duration": 0.006948,
     "end_time": "2022-10-15T10:58:14.912038",
     "exception": false,
     "start_time": "2022-10-15T10:58:14.905090",
     "status": "completed"
    },
    "tags": []
   },
   "source": [
    "## Think About Your Results\n",
    "\n",
    "Use the `head` method to compare the top few predictions to the actual home values (in `y`) for those same homes. Anything surprising?\n"
   ]
  },
  {
   "cell_type": "code",
   "execution_count": 12,
   "id": "41ec479e",
   "metadata": {
    "execution": {
     "iopub.execute_input": "2022-10-15T10:58:14.928070Z",
     "iopub.status.busy": "2022-10-15T10:58:14.927665Z",
     "iopub.status.idle": "2022-10-15T10:58:14.934104Z",
     "shell.execute_reply": "2022-10-15T10:58:14.933101Z"
    },
    "papermill": {
     "duration": 0.017137,
     "end_time": "2022-10-15T10:58:14.936230",
     "exception": false,
     "start_time": "2022-10-15T10:58:14.919093",
     "status": "completed"
    },
    "tags": []
   },
   "outputs": [
    {
     "name": "stdout",
     "output_type": "stream",
     "text": [
      "0    208500\n",
      "1    181500\n",
      "2    223500\n",
      "3    140000\n",
      "4    250000\n",
      "Name: SalePrice, dtype: int64\n",
      "[208500. 181500. 223500. 140000. 250000.]\n"
     ]
    }
   ],
   "source": [
    "# You can write code in this cell\n",
    "print(y.head())\n",
    "print(predictions[:5])"
   ]
  },
  {
   "cell_type": "markdown",
   "id": "da8c70fc",
   "metadata": {
    "papermill": {
     "duration": 0.006428,
     "end_time": "2022-10-15T10:58:14.949326",
     "exception": false,
     "start_time": "2022-10-15T10:58:14.942898",
     "status": "completed"
    },
    "tags": []
   },
   "source": [
    "It's natural to ask how accurate the model's predictions will be and how you can improve that. That will be you're next step.\n",
    "\n",
    "# Keep Going\n",
    "\n",
    "You are ready for **[Model Validation](https://www.kaggle.com/dansbecker/model-validation).**\n"
   ]
  },
  {
   "cell_type": "markdown",
   "id": "8333a95f",
   "metadata": {
    "papermill": {
     "duration": 0.006856,
     "end_time": "2022-10-15T10:58:14.963181",
     "exception": false,
     "start_time": "2022-10-15T10:58:14.956325",
     "status": "completed"
    },
    "tags": []
   },
   "source": [
    "---\n",
    "\n",
    "\n",
    "\n",
    "\n",
    "*Have questions or comments? Visit the [course discussion forum](https://www.kaggle.com/learn/intro-to-machine-learning/discussion) to chat with other learners.*"
   ]
  }
 ],
 "metadata": {
  "kernelspec": {
   "display_name": "Python 3",
   "language": "python",
   "name": "python3"
  },
  "language_info": {
   "codemirror_mode": {
    "name": "ipython",
    "version": 3
   },
   "file_extension": ".py",
   "mimetype": "text/x-python",
   "name": "python",
   "nbconvert_exporter": "python",
   "pygments_lexer": "ipython3",
   "version": "3.7.12"
  },
  "papermill": {
   "default_parameters": {},
   "duration": 12.123433,
   "end_time": "2022-10-15T10:58:15.792370",
   "environment_variables": {},
   "exception": null,
   "input_path": "__notebook__.ipynb",
   "output_path": "__notebook__.ipynb",
   "parameters": {},
   "start_time": "2022-10-15T10:58:03.668937",
   "version": "2.3.4"
  }
 },
 "nbformat": 4,
 "nbformat_minor": 5
}
